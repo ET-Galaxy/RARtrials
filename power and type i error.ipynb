{
 "cells": [
  {
   "cell_type": "code",
   "execution_count": 2,
   "metadata": {},
   "outputs": [],
   "source": [
    "import numpy as np\n",
    "from scipy.special import beta\n",
    "import matplotlib.pyplot as plt\n",
    "from scipy.stats import binom"
   ]
  },
  {
   "cell_type": "code",
   "execution_count": 3,
   "metadata": {},
   "outputs": [],
   "source": [
    "def calc_prob_ab(a_success,a_fail,b_success,b_fail):\n",
    "    if any([i<0 for i in (a_success,a_fail,b_success,b_fail)]):\n",
    "        final=0\n",
    "        return\n",
    "    final=0; #prob that p_B>p_A\n",
    "    for i in range (0,b_success+1):\n",
    "        final=final+beta(a_success+1+i,a_fail+b_fail+2)/((b_fail+i+1)*beta(1+i,b_fail+1)*beta(a_success+1,a_fail+1))\n",
    "    res=1-final\n",
    "    return res\n",
    "\n",
    "def prob_ab(a,b,c,d):\n",
    "    if any([i<0 for i in (a,b,c,d)]):\n",
    "        return 0\n",
    "    if p_cache[a,b,c,d] == -1:\n",
    "        res = calc_prob_ab(a,b,c,d)\n",
    "        p_cache[a,b,c,d] = res\n",
    "        return res\n",
    "    return p_cache[a,b,c,d]\n",
    "\n",
    "def r_abcd(a,b,c,d):\n",
    "    if all([i==0 for i in (a,b,c,d)]):\n",
    "        return 1\n",
    "    elif any([i<0 for i in (a,b,c,d)]):\n",
    "        return 0\n",
    "    if r_cache[a,b,c,d] == -1:\n",
    "        res = r_abcd(a-1,b,c,d) * prob_ab(a-1+prior[0],b+prior[1],c+prior[2],d+prior[3]) * p1 + \\\n",
    "              r_abcd(a,b-1,c,d) * prob_ab(a+prior[0],b-1+prior[1],c+prior[2],d+prior[3]) * q1 + \\\n",
    "              r_abcd(a,b,c-1,d) * prob_ab(c-1+prior[2],d+prior[3],a+prior[0],b+prior[1]) * p2 + \\\n",
    "              r_abcd(a,b,c,d-1) * prob_ab(c+prior[2],d-1+prior[3],a+prior[0],b+prior[1]) * q2\n",
    "        r_cache[a,b,c,d] = res\n",
    "        return res\n",
    "    return r_cache[a,b,c,d]\n",
    "\n",
    "def cache_init(a,b,c,d):\n",
    "    return -np.ones((a+1,b+1,c+1,d+1), dtype=float)\n",
    "\n",
    "def arm1dist(n):\n",
    "    distr=np.zeros(n+1)\n",
    "    for k in range (n+1):\n",
    "        for a in range (k+1):\n",
    "            for c in range (n-k+1):\n",
    "                distr[k]=distr[k]+r_abcd(a,k-a,c,n-k-c)\n",
    "    return distr\n",
    "\n",
    "def type1error(n,v):  #becomes power when p1!=p2, v is decision boundary\n",
    "    pow=0\n",
    "    zero=0\n",
    "    for k in range (n+1):\n",
    "        for a in range (k+1):\n",
    "            for c in range (n-k+1):\n",
    "                n1=k+prior[0]+prior[1]\n",
    "                n2=n-k+prior[2]+prior[3]\n",
    "                if any([i==0 for i in [n1,n2]]):\n",
    "                    zero=zero+r_abcd(a,k-a,c,n-k-c)\n",
    "                else:\n",
    "                    pred1=(a+prior[0])/n1\n",
    "                    pred2=(c+prior[2])/n2 \n",
    "                    if pred1 in [0,1] and pred2 in [0,1]:\n",
    "                        zero=zero+r_abcd(a,k-a,c,n-k-c)\n",
    "                    else:\n",
    "                        wald=(pred1-pred2)/np.sqrt(pred1*(1-pred1)/n1+pred2*(1-pred2)/n2)\n",
    "                        if wald>v:\n",
    "                            pow=pow+r_abcd(a,k-a,c,n-k-c)\n",
    "    return np.array([pow,zero])"
   ]
  },
  {
   "cell_type": "markdown",
   "metadata": {},
   "source": [
    "Small sample test\n",
    "n=25"
   ]
  },
  {
   "cell_type": "code",
   "execution_count": 4,
   "metadata": {},
   "outputs": [],
   "source": [
    "p_cache= np.load('data.npy')  #always true!"
   ]
  },
  {
   "cell_type": "code",
   "execution_count": 56,
   "metadata": {},
   "outputs": [
    {
     "data": {
      "text/plain": [
       "[array([0.07179911, 0.01222326]),\n",
       " array([0.03676411, 0.00517584]),\n",
       " array([0.03273194, 0.00483804]),\n",
       " array([0.03022534, 0.00475198]),\n",
       " array([0.02967373, 0.00472999]),\n",
       " array([0.03003502, 0.00472434]),\n",
       " array([0.03058285, 0.00472288]),\n",
       " array([0.03240436, 0.0047225 ]),\n",
       " array([0.03475201, 0.0047224 ]),\n",
       " array([0.03633048, 0.00472238]),\n",
       " array([0.03902434, 0.00472237]),\n",
       " array([0.04405701, 0.00472237]),\n",
       " array([0.0465604 , 0.00472237])]"
      ]
     },
     "execution_count": 56,
     "metadata": {},
     "output_type": "execute_result"
    }
   ],
   "source": [
    "a, b, c, d = 25, 25, 25, 25   #more trials after burn-in period\n",
    "r_cache = cache_init(a,b,c,d)  #for initial setup only, make sure change when prior change\n",
    "p1, p2 = 0.8, 0.8\n",
    "q1, q2 = 1-p1, 1-p2\n",
    "\n",
    "listoftype1=[]\n",
    "for burnin in range(13):\n",
    "    type1=np.array([0,0])\n",
    "    for i in range(burnin+1):\n",
    "        for j in range(burnin+1):\n",
    "            prior=[i,burnin-i,j,burnin-j]\n",
    "            type1=type1+type1error(24-burnin*2,1.96)*binom.pmf(i,burnin,p1)*binom.pmf(j,burnin,p2)\n",
    "    listoftype1.append(type1)"
   ]
  },
  {
   "cell_type": "code",
   "execution_count": 52,
   "metadata": {},
   "outputs": [
    {
     "data": {
      "text/plain": [
       "[array([0.77875632, 0.00783321]),\n",
       " array([0.76510207, 0.00479081]),\n",
       " array([0.80163457, 0.00474111]),\n",
       " array([0.84063679, 0.00472755]),\n",
       " array([0.85997418, 0.00472381]),\n",
       " array([0.87800532, 0.00472278]),\n",
       " array([0.8886866 , 0.00472249]),\n",
       " array([0.89919965, 0.0047224 ]),\n",
       " array([0.90782226, 0.00472238]),\n",
       " array([0.91098392, 0.00472237]),\n",
       " array([0.91162158, 0.00472237]),\n",
       " array([0.91097072, 0.00472237]),\n",
       " array([0.90755531, 0.00472237])]"
      ]
     },
     "execution_count": 52,
     "metadata": {},
     "output_type": "execute_result"
    }
   ],
   "source": [
    "a, b, c, d = 25, 25, 25, 25   #more trials after burn-in period\n",
    "r_cache = cache_init(a,b,c,d)  #for initial setup only, make sure change when prior change\n",
    "p1, p2 = 0.8, 0.2\n",
    "q1, q2 = 1-p1, 1-p2\n",
    "\n",
    "listofpow=[]\n",
    "for burnin in range(13):\n",
    "    type1=np.array([0,0])\n",
    "    for i in range(burnin+1):\n",
    "        for j in range(burnin+1):\n",
    "            prior=[i,burnin-i,j,burnin-j]\n",
    "            type1=type1+type1error(24-burnin*2,1.96)*binom.pmf(i,burnin,p1)*binom.pmf(j,burnin,p2)\n",
    "    listofpow.append(type1)"
   ]
  },
  {
   "cell_type": "code",
   "execution_count": 57,
   "metadata": {},
   "outputs": [
    {
     "data": {
      "image/png": "[encoded data removed]",
      "text/plain": [
       "<Figure size 640x480 with 2 Axes>"
      ]
     },
     "metadata": {},
     "output_type": "display_data"
    }
   ],
   "source": [
    "# Extract x and y values for each series\n",
    "x1 = [point[0] for point in listoftype1]\n",
    "y1 = [point[0] for point in listofpow]\n",
    "\n",
    "# Plot the lines\n",
    "plt.plot(x1, color='blue')\n",
    "plt.xlabel('Burn-in period')\n",
    "plt.ylabel('Type 1 error', color='blue')\n",
    "\n",
    "# Create a twin Axes\n",
    "plt.twinx()\n",
    "\n",
    "# Plot the second line\n",
    "plt.plot(y1, color='red')\n",
    "plt.ylabel('Power', color='red')\n",
    "\n",
    "# Add labels and title\n",
    "plt.title('n=24, v=1.96, p1=0.8, p2=0.2')\n",
    "\n",
    "# Show plot\n",
    "plt.show()"
   ]
  },
  {
   "cell_type": "markdown",
   "metadata": {},
   "source": [
    "n=25, v=0.1 on p1=0.8, p2=0.5 shows that the power initially drops and then bounce back up to be higher than burn-in period=0. This maybe explained by larger stability in estimates after a \"long burn-in\"."
   ]
  },
  {
   "cell_type": "markdown",
   "metadata": {},
   "source": [
    "**Fixed burn-in period analysis**"
   ]
  },
  {
   "cell_type": "code",
   "execution_count": 1,
   "metadata": {},
   "outputs": [
    {
     "ename": "NameError",
     "evalue": "name 'cache_init' is not defined",
     "output_type": "error",
     "traceback": [
      "\u001b[1;31m---------------------------------------------------------------------------\u001b[0m",
      "\u001b[1;31mNameError\u001b[0m                                 Traceback (most recent call last)",
      "Cell \u001b[1;32mIn[1], line 2\u001b[0m\n\u001b[0;32m      1\u001b[0m a, b, c, d \u001b[38;5;241m=\u001b[39m \u001b[38;5;241m25\u001b[39m, \u001b[38;5;241m25\u001b[39m, \u001b[38;5;241m25\u001b[39m, \u001b[38;5;241m25\u001b[39m   \u001b[38;5;66;03m#more trials after burn-in period\u001b[39;00m\n\u001b[1;32m----> 2\u001b[0m r_cache \u001b[38;5;241m=\u001b[39m \u001b[43mcache_init\u001b[49m(a,b,c,d)  \u001b[38;5;66;03m#for initial setup only, make sure change when prior change\u001b[39;00m\n\u001b[0;32m      3\u001b[0m p1, p2 \u001b[38;5;241m=\u001b[39m \u001b[38;5;241m0.5\u001b[39m, \u001b[38;5;241m0.5\u001b[39m\n\u001b[0;32m      4\u001b[0m q1, q2 \u001b[38;5;241m=\u001b[39m \u001b[38;5;241m1\u001b[39m\u001b[38;5;241m-\u001b[39mp1, \u001b[38;5;241m1\u001b[39m\u001b[38;5;241m-\u001b[39mp2\n",
      "\u001b[1;31mNameError\u001b[0m: name 'cache_init' is not defined"
     ]
    }
   ],
   "source": [
    "a, b, c, d = 25, 25, 25, 25   #more trials after burn-in period\n",
    "r_cache = cache_init(a,b,c,d)  #for initial setup only, make sure change when prior change\n",
    "p1, p2 = 0.5, 0.5\n",
    "q1, q2 = 1-p1, 1-p2\n",
    "\n",
    "listoftype1=[]\n",
    "burnin=0\n",
    "for burnin in range(13):\n",
    "    type1=np.array([0,0])\n",
    "    for i in range(burnin+1):\n",
    "        for j in range(burnin+1):\n",
    "            prior=[i,burnin-i,j,burnin-j]\n",
    "            type1=type1+type1error(24-burnin*2,1.96)*binom.pmf(i,burnin,p1)*binom.pmf(j,burnin,p2)\n",
    "    listoftype1.append(type1)\n",
    "\n"
   ]
  },
  {
   "cell_type": "code",
   "execution_count": 83,
   "metadata": {},
   "outputs": [],
   "source": [
    "np.save('data.npy', p_cache)"
   ]
  }
 ],
 "metadata": {
  "kernelspec": {
   "display_name": "Python 3",
   "language": "python",
   "name": "python3"
  },
  "language_info": {
   "codemirror_mode": {
    "name": "ipython",
    "version": 3
   },
   "file_extension": ".py",
   "mimetype": "text/x-python",
   "name": "python",
   "nbconvert_exporter": "python",
   "pygments_lexer": "ipython3",
   "version": "3.10.2"
  }
 },
 "nbformat": 4,
 "nbformat_minor": 2
}
